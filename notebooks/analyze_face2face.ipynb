{
 "cells": [
  {
   "cell_type": "code",
   "execution_count": 2,
   "metadata": {},
   "outputs": [],
   "source": [
    "import sys,os\n",
    "from pathlib import Path\n",
    "sys.path.append(str(Path(\"../\")))\n",
    "\n",
    "import torch\n",
    "import torch.nn as nn\n",
    "from torch.utils.data import DataLoader\n",
    "from torch.autograd import Variable\n",
    "import numpy as np\n",
    "from utils import loaders,model_face\n",
    "\n",
    "\n",
    "import functools\n",
    "from utils.nnmodels import *"
   ]
  },
  {
   "cell_type": "code",
   "execution_count": 3,
   "metadata": {},
   "outputs": [],
   "source": [
    "HEAD_GAN_DIM=14+1\n",
    "norm_layer3 = functools.partial(nn.InstanceNorm2d, affine=False)\n",
    "#facenetD =  FaceNLayerDiscriminator(3, 32, 3,norm_layer3, use_sigmoid=True)"
   ]
  },
  {
   "cell_type": "code",
   "execution_count": 4,
   "metadata": {},
   "outputs": [
    {
     "data": {
      "text/plain": [
       "{'affine': False}"
      ]
     },
     "execution_count": 4,
     "metadata": {},
     "output_type": "execute_result"
    }
   ],
   "source": [
    "norm_layer3.keywords"
   ]
  },
  {
   "cell_type": "code",
   "execution_count": 5,
   "metadata": {},
   "outputs": [],
   "source": [
    "norm_layer=nn.BatchNorm2d"
   ]
  },
  {
   "cell_type": "code",
   "execution_count": 6,
   "metadata": {},
   "outputs": [],
   "source": [
    "input_nc=3\n",
    "ndf=32\n",
    "n_layers=3\n",
    "kw = 4\n",
    "padw = 1\n",
    "n_layers=3\n",
    "use_sigmoid=True\n",
    "use_bias=False"
   ]
  },
  {
   "cell_type": "code",
   "execution_count": 7,
   "metadata": {},
   "outputs": [],
   "source": [
    "\n",
    "sequence = [\n",
    "    nn.Conv2d(input_nc, ndf, kernel_size=kw, stride=2, padding=padw),\n",
    "    nn.LeakyReLU(0.2, True)\n",
    "]\n",
    "nf_mult = 1\n",
    "for n in range(1, n_layers):\n",
    "    nf_mult_prev = nf_mult\n",
    "    nf_mult = min(2 ** n, 8)\n",
    "    sequence += [\n",
    "        nn.Conv2d(ndf * nf_mult_prev, ndf * nf_mult,\n",
    "                  kernel_size=kw, stride=2, padding=padw, bias=use_bias),\n",
    "        spectral_norm(norm_layer(ndf * nf_mult)),\n",
    "        nn.LeakyReLU(0.2, True),\n",
    "    ]\n",
    "\n"
   ]
  },
  {
   "cell_type": "code",
   "execution_count": 8,
   "metadata": {},
   "outputs": [],
   "source": [
    "model1 = nn.Sequential(*sequence) "
   ]
  },
  {
   "cell_type": "code",
   "execution_count": 9,
   "metadata": {},
   "outputs": [],
   "source": [
    "nf_mult_prev = nf_mult\n",
    "nf_mult = min(2 ** n_layers, 8)\n",
    "sequence = [  # building a new sequence, not adding modules!\n",
    "    nn.Conv2d(ndf * nf_mult_prev, ndf * nf_mult,\n",
    "              kernel_size=kw, stride=1, padding=padw, bias=use_bias),\n",
    "    spectral_norm(norm_layer(ndf * nf_mult)),\n",
    "    nn.LeakyReLU(0.2, True),\n",
    "    # nn.Dropout(0.1),\n",
    "    nn.Conv2d(ndf * nf_mult, 1, kernel_size=3, stride=1, padding=0)\n",
    "]"
   ]
  },
  {
   "cell_type": "code",
   "execution_count": null,
   "metadata": {},
   "outputs": [],
   "source": []
  },
  {
   "cell_type": "code",
   "execution_count": 10,
   "metadata": {},
   "outputs": [],
   "source": [
    "b=torch.cuda.FloatTensor([1,2,3],device=torch.device(\"cuda:3\"))"
   ]
  },
  {
   "cell_type": "code",
   "execution_count": 11,
   "metadata": {},
   "outputs": [
    {
     "data": {
      "text/plain": [
       "torch.Tensor"
      ]
     },
     "execution_count": 11,
     "metadata": {},
     "output_type": "execute_result"
    }
   ],
   "source": [
    "type(b)"
   ]
  },
  {
   "cell_type": "code",
   "execution_count": 12,
   "metadata": {},
   "outputs": [
    {
     "data": {
      "text/plain": [
       "tensor([1., 2., 3.], device='cuda:3')"
      ]
     },
     "execution_count": 12,
     "metadata": {},
     "output_type": "execute_result"
    }
   ],
   "source": [
    "b"
   ]
  },
  {
   "cell_type": "code",
   "execution_count": null,
   "metadata": {},
   "outputs": [],
   "source": []
  }
 ],
 "metadata": {
  "kernelspec": {
   "display_name": "Python 3",
   "language": "python",
   "name": "python3"
  },
  "language_info": {
   "codemirror_mode": {
    "name": "ipython",
    "version": 3
   },
   "file_extension": ".py",
   "mimetype": "text/x-python",
   "name": "python",
   "nbconvert_exporter": "python",
   "pygments_lexer": "ipython3",
   "version": "3.7.3"
  }
 },
 "nbformat": 4,
 "nbformat_minor": 4
}
